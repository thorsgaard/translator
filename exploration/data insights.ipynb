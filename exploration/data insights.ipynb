{
 "cells": [
  {
   "cell_type": "code",
   "execution_count": 7,
   "metadata": {
    "collapsed": true
   },
   "outputs": [],
   "source": [
    "import re\n",
    "import pandas as pd\n",
    "from numpy import array\n",
    "import numpy as np\n",
    "\n",
    "data_url = \"../src/persistence/raw_data/dan.txt\"\n",
    "\n",
    "# function to read raw text file\n",
    "def read_text(filename):\n",
    "        # open the file\n",
    "        file = open(filename, mode='rt', encoding='utf-8')\n",
    "\n",
    "        # read all text\n",
    "        text = file.read()\n",
    "        file.close()\n",
    "        return text\n",
    "# Let’s define another function to split the text into English-German pairs separated by ‘\\n’. We’ll then split these pairs into English sentences and German sentences respectively.\n",
    "# split a text into sentences\n",
    "\n",
    "def to_lines(text):\n",
    "      sents = text.strip().split('\\n')\n",
    "      sents = [i.split('\\t') for i in sents]\n",
    "      return sents\n",
    "\n",
    "#We can now use these functions to read the text into an array in our desired format."
   ]
  },
  {
   "cell_type": "code",
   "execution_count": 2,
   "outputs": [],
   "source": [
    "data = read_text(data_url)\n",
    "dan_eng = to_lines(data)"
   ],
   "metadata": {
    "collapsed": false
   }
  },
  {
   "cell_type": "code",
   "execution_count": 14,
   "outputs": [],
   "source": [
    "from src.persistence.adapter.data_cleaning_adapter import EngDaDataCleaningAdapter\n",
    "\n",
    "eng_da = EngDaDataCleaningAdapter().get_clean_data()\n"
   ],
   "metadata": {
    "collapsed": false
   }
  },
  {
   "cell_type": "code",
   "execution_count": 15,
   "outputs": [],
   "source": [
    "import string\n",
    "\n",
    "# Remove punctuation\n",
    "eng_da[:,0] = [s.translate(str.maketrans('', '', string.punctuation)) for s in eng_da[:,0]]\n",
    "eng_da[:,1] = [s.translate(str.maketrans('', '', string.punctuation)) for s in eng_da[:,1]]"
   ],
   "metadata": {
    "collapsed": false
   }
  },
  {
   "cell_type": "code",
   "execution_count": 17,
   "outputs": [],
   "source": [
    "# convert text to lowercase\n",
    "for i in range(len(eng_da)):\n",
    "    eng_da[i,0] = eng_da[i,0].lower()\n",
    "    eng_da[i,1] = eng_da[i,1].lower()"
   ],
   "metadata": {
    "collapsed": false
   }
  },
  {
   "cell_type": "code",
   "execution_count": 18,
   "outputs": [
    {
     "data": {
      "text/plain": "array([['go', 'gå',\n        'CC-BY 2.0 (France) Attribution: tatoeba.org #2877272 (CM) & #1157687 (danepo)'],\n       ['hi', 'hej',\n        'CC-BY 2.0 (France) Attribution: tatoeba.org #538123 (CM) & #3490185 (danepo)'],\n       ['hi', 'hej',\n        'CC-BY 2.0 (France) Attribution: tatoeba.org #538123 (CM) & #3807245 (cimmic)'],\n       ...,\n       ['january february march april may june july august september october november and december are the twelve months of the year',\n        'januar februar marts april maj juni juli august september oktober november og december er årets tolv måneder',\n        'CC-BY 2.0 (France) Attribution: tatoeba.org #621957 (Eldad) & #620655 (danepo)'],\n       ['tom and mary filled balloons with water and dropped them from the balcony down on to unsuspecting pedestrians walking on the pavement below',\n        'tom og mary fyldte balloner med vand og kastede dem ud fra balkonen ned på intetanende fodgængere der gik på fortovet nedenfor',\n        'CC-BY 2.0 (France) Attribution: tatoeba.org #6172574 (sundown) & #6174505 (danepo)'],\n       ['if you translate from your second language into your own native language rather than the other way around youre less likely to make mistakes',\n        'hvis man oversætter fra sit andetsprog til sit modersmål i stedet for omvendt er der mindre sandsynlighed for at man laver fejl',\n        'CC-BY 2.0 (France) Attribution: tatoeba.org #1230823 (CK) & #4944049 (danepo)']],\n      dtype='<U144')"
     },
     "execution_count": 18,
     "metadata": {},
     "output_type": "execute_result"
    }
   ],
   "source": [
    "eng_da"
   ],
   "metadata": {
    "collapsed": false
   }
  }
 ],
 "metadata": {
  "kernelspec": {
   "display_name": "Python 3",
   "language": "python",
   "name": "python3"
  },
  "language_info": {
   "codemirror_mode": {
    "name": "ipython",
    "version": 2
   },
   "file_extension": ".py",
   "mimetype": "text/x-python",
   "name": "python",
   "nbconvert_exporter": "python",
   "pygments_lexer": "ipython2",
   "version": "2.7.6"
  }
 },
 "nbformat": 4,
 "nbformat_minor": 0
}
